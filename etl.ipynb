{
 "cells": [
  {
   "cell_type": "markdown",
   "metadata": {},
   "source": [
    "# ETL Processes\n",
    "Use this notebook to develop the ETL process for each of your tables before completing the `etl.py` file to load the whole datasets."
   ]
  },
  {
   "cell_type": "code",
   "execution_count": 1,
   "metadata": {},
   "outputs": [],
   "source": [
    "import os\n",
    "import glob\n",
    "import psycopg2\n",
    "import pandas as pd\n",
    "from sql_queries import *"
   ]
  },
  {
   "cell_type": "code",
   "execution_count": 2,
   "metadata": {},
   "outputs": [],
   "source": [
    "conn = psycopg2.connect(\"host=127.0.0.1 dbname=sparkifydb user=student password=student\")\n",
    "cur = conn.cursor()"
   ]
  },
  {
   "cell_type": "code",
   "execution_count": 3,
   "metadata": {},
   "outputs": [],
   "source": [
    "def get_files(filepath):\n",
    "    all_files = []\n",
    "    for root, dirs, files in os.walk(filepath):\n",
    "        files = glob.glob(os.path.join(root,'*.json'))\n",
    "        for f in files :\n",
    "            all_files.append(os.path.abspath(f))\n",
    "    \n",
    "    return all_files"
   ]
  },
  {
   "cell_type": "markdown",
   "metadata": {},
   "source": [
    "# Process `song_data`\n",
    "In this first part, you'll perform ETL on the first dataset, `song_data`, to create the `songs` and `artists` dimensional tables.\n",
    "\n",
    "Let's perform ETL on a single song file and load a single record into each table to start.\n",
    "- Use the `get_files` function provided above to get a list of all song JSON files in `data/song_data`\n",
    "- Select the first song in this list\n",
    "- Read the song file and view the data"
   ]
  },
  {
   "cell_type": "code",
   "execution_count": 4,
   "metadata": {},
   "outputs": [],
   "source": [
    "song_files = get_files(\"data/song_data\")"
   ]
  },
  {
   "cell_type": "code",
   "execution_count": 5,
   "metadata": {},
   "outputs": [],
   "source": [
    "filepath = song_files[0]"
   ]
  },
  {
   "cell_type": "code",
   "execution_count": 6,
   "metadata": {},
   "outputs": [
    {
     "data": {
      "text/html": [
       "<div>\n",
       "<style scoped>\n",
       "    .dataframe tbody tr th:only-of-type {\n",
       "        vertical-align: middle;\n",
       "    }\n",
       "\n",
       "    .dataframe tbody tr th {\n",
       "        vertical-align: top;\n",
       "    }\n",
       "\n",
       "    .dataframe thead th {\n",
       "        text-align: right;\n",
       "    }\n",
       "</style>\n",
       "<table border=\"1\" class=\"dataframe\">\n",
       "  <thead>\n",
       "    <tr style=\"text-align: right;\">\n",
       "      <th></th>\n",
       "      <th>artist_id</th>\n",
       "      <th>artist_latitude</th>\n",
       "      <th>artist_location</th>\n",
       "      <th>artist_longitude</th>\n",
       "      <th>artist_name</th>\n",
       "      <th>duration</th>\n",
       "      <th>num_songs</th>\n",
       "      <th>song_id</th>\n",
       "      <th>title</th>\n",
       "      <th>year</th>\n",
       "    </tr>\n",
       "  </thead>\n",
       "  <tbody>\n",
       "    <tr>\n",
       "      <th>0</th>\n",
       "      <td>ARD0S291187B9B7BF5</td>\n",
       "      <td>NaN</td>\n",
       "      <td>Ohio</td>\n",
       "      <td>NaN</td>\n",
       "      <td>Rated R</td>\n",
       "      <td>114.78159</td>\n",
       "      <td>1</td>\n",
       "      <td>SOMJBYD12A6D4F8557</td>\n",
       "      <td>Keepin It Real (Skit)</td>\n",
       "      <td>0</td>\n",
       "    </tr>\n",
       "  </tbody>\n",
       "</table>\n",
       "</div>"
      ],
      "text/plain": [
       "            artist_id  artist_latitude artist_location  artist_longitude  \\\n",
       "0  ARD0S291187B9B7BF5              NaN            Ohio               NaN   \n",
       "\n",
       "  artist_name   duration  num_songs             song_id  \\\n",
       "0     Rated R  114.78159          1  SOMJBYD12A6D4F8557   \n",
       "\n",
       "                   title  year  \n",
       "0  Keepin It Real (Skit)     0  "
      ]
     },
     "execution_count": 6,
     "metadata": {},
     "output_type": "execute_result"
    }
   ],
   "source": [
    "df = pd.read_json(filepath, lines=True)\n",
    "df.head()"
   ]
  },
  {
   "cell_type": "markdown",
   "metadata": {},
   "source": [
    "## #1: `songs` Table\n",
    "#### Extract Data for Songs Table\n",
    "- Select columns for song ID, title, artist ID, year, and duration\n",
    "- Use `df.values` to select just the values from the dataframe\n",
    "- Index to select the first (only) record in the dataframe\n",
    "- Convert the array to a list and set it to `song_data`"
   ]
  },
  {
   "cell_type": "code",
   "execution_count": 7,
   "metadata": {},
   "outputs": [
    {
     "data": {
      "text/plain": [
       "['SOMJBYD12A6D4F8557',\n",
       " 'Keepin It Real (Skit)',\n",
       " 'ARD0S291187B9B7BF5',\n",
       " 0,\n",
       " 114.78159]"
      ]
     },
     "execution_count": 7,
     "metadata": {},
     "output_type": "execute_result"
    }
   ],
   "source": [
    "song_data = df[[\"song_id\", \"title\", \"artist_id\", \"year\", \"duration\"]].values.tolist()[0]\n",
    "song_data"
   ]
  },
  {
   "cell_type": "markdown",
   "metadata": {},
   "source": [
    "#### Insert Record into Song Table\n",
    "Implement the `song_table_insert` query in `sql_queries.py` and run the cell below to insert a record for this song into the `songs` table. Remember to run `create_tables.py` before running the cell below to ensure you've created/resetted the `songs` table in the sparkify database."
   ]
  },
  {
   "cell_type": "code",
   "execution_count": 8,
   "metadata": {},
   "outputs": [],
   "source": [
    "cur.execute(song_table_insert, song_data)\n",
    "conn.commit()"
   ]
  },
  {
   "cell_type": "markdown",
   "metadata": {},
   "source": [
    "Run `test.ipynb` to see if you've successfully added a record to this table."
   ]
  },
  {
   "cell_type": "markdown",
   "metadata": {},
   "source": [
    "## #2: `artists` Table\n",
    "#### Extract Data for Artists Table\n",
    "- Select columns for artist ID, name, location, latitude, and longitude\n",
    "- Use `df.values` to select just the values from the dataframe\n",
    "- Index to select the first (only) record in the dataframe\n",
    "- Convert the array to a list and set it to `artist_data`"
   ]
  },
  {
   "cell_type": "code",
   "execution_count": 9,
   "metadata": {},
   "outputs": [
    {
     "data": {
      "text/plain": [
       "['ARD0S291187B9B7BF5', 'Rated R', 'Ohio', nan, nan]"
      ]
     },
     "execution_count": 9,
     "metadata": {},
     "output_type": "execute_result"
    }
   ],
   "source": [
    "artist_data = df[[\"artist_id\", \"artist_name\", \"artist_location\", \"artist_latitude\", \"artist_longitude\"]].values.tolist()[0]\n",
    "artist_data"
   ]
  },
  {
   "cell_type": "markdown",
   "metadata": {},
   "source": [
    "#### Insert Record into Artist Table\n",
    "Implement the `artist_table_insert` query in `sql_queries.py` and run the cell below to insert a record for this song's artist into the `artists` table. Remember to run `create_tables.py` before running the cell below to ensure you've created/resetted the `artists` table in the sparkify database."
   ]
  },
  {
   "cell_type": "code",
   "execution_count": 10,
   "metadata": {},
   "outputs": [],
   "source": [
    "cur.execute(artist_table_insert, artist_data)\n",
    "conn.commit()"
   ]
  },
  {
   "cell_type": "markdown",
   "metadata": {},
   "source": [
    "Run `test.ipynb` to see if you've successfully added a record to this table."
   ]
  },
  {
   "cell_type": "markdown",
   "metadata": {},
   "source": [
    "# Process `log_data`\n",
    "In this part, you'll perform ETL on the second dataset, `log_data`, to create the `time` and `users` dimensional tables, as well as the `songplays` fact table.\n",
    "\n",
    "Let's perform ETL on a single log file and load a single record into each table.\n",
    "- Use the `get_files` function provided above to get a list of all log JSON files in `data/log_data`\n",
    "- Select the first log file in this list\n",
    "- Read the log file and view the data"
   ]
  },
  {
   "cell_type": "code",
   "execution_count": 11,
   "metadata": {},
   "outputs": [],
   "source": [
    "log_files = get_files(\"data/log_data\")"
   ]
  },
  {
   "cell_type": "code",
   "execution_count": 12,
   "metadata": {},
   "outputs": [],
   "source": [
    "filepath = log_files[0]"
   ]
  },
  {
   "cell_type": "code",
   "execution_count": 13,
   "metadata": {},
   "outputs": [
    {
     "data": {
      "text/html": [
       "<div>\n",
       "<style scoped>\n",
       "    .dataframe tbody tr th:only-of-type {\n",
       "        vertical-align: middle;\n",
       "    }\n",
       "\n",
       "    .dataframe tbody tr th {\n",
       "        vertical-align: top;\n",
       "    }\n",
       "\n",
       "    .dataframe thead th {\n",
       "        text-align: right;\n",
       "    }\n",
       "</style>\n",
       "<table border=\"1\" class=\"dataframe\">\n",
       "  <thead>\n",
       "    <tr style=\"text-align: right;\">\n",
       "      <th></th>\n",
       "      <th>artist</th>\n",
       "      <th>auth</th>\n",
       "      <th>firstName</th>\n",
       "      <th>gender</th>\n",
       "      <th>itemInSession</th>\n",
       "      <th>lastName</th>\n",
       "      <th>length</th>\n",
       "      <th>level</th>\n",
       "      <th>location</th>\n",
       "      <th>method</th>\n",
       "      <th>page</th>\n",
       "      <th>registration</th>\n",
       "      <th>sessionId</th>\n",
       "      <th>song</th>\n",
       "      <th>status</th>\n",
       "      <th>ts</th>\n",
       "      <th>userAgent</th>\n",
       "      <th>userId</th>\n",
       "    </tr>\n",
       "  </thead>\n",
       "  <tbody>\n",
       "    <tr>\n",
       "      <th>0</th>\n",
       "      <td>Dee Dee Bridgewater</td>\n",
       "      <td>Logged In</td>\n",
       "      <td>Lily</td>\n",
       "      <td>F</td>\n",
       "      <td>38</td>\n",
       "      <td>Koch</td>\n",
       "      <td>318.64118</td>\n",
       "      <td>paid</td>\n",
       "      <td>Chicago-Naperville-Elgin, IL-IN-WI</td>\n",
       "      <td>PUT</td>\n",
       "      <td>NextSong</td>\n",
       "      <td>1.541048e+12</td>\n",
       "      <td>818</td>\n",
       "      <td>La Vie En Rose</td>\n",
       "      <td>200</td>\n",
       "      <td>1542845032796</td>\n",
       "      <td>\"Mozilla/5.0 (X11; Linux x86_64) AppleWebKit/5...</td>\n",
       "      <td>15</td>\n",
       "    </tr>\n",
       "    <tr>\n",
       "      <th>1</th>\n",
       "      <td>Tim O'brien</td>\n",
       "      <td>Logged In</td>\n",
       "      <td>Lily</td>\n",
       "      <td>F</td>\n",
       "      <td>39</td>\n",
       "      <td>Koch</td>\n",
       "      <td>176.14322</td>\n",
       "      <td>paid</td>\n",
       "      <td>Chicago-Naperville-Elgin, IL-IN-WI</td>\n",
       "      <td>PUT</td>\n",
       "      <td>NextSong</td>\n",
       "      <td>1.541048e+12</td>\n",
       "      <td>818</td>\n",
       "      <td>Think About Last Night</td>\n",
       "      <td>200</td>\n",
       "      <td>1542845350796</td>\n",
       "      <td>\"Mozilla/5.0 (X11; Linux x86_64) AppleWebKit/5...</td>\n",
       "      <td>15</td>\n",
       "    </tr>\n",
       "    <tr>\n",
       "      <th>2</th>\n",
       "      <td>Nirvana</td>\n",
       "      <td>Logged In</td>\n",
       "      <td>Lily</td>\n",
       "      <td>F</td>\n",
       "      <td>40</td>\n",
       "      <td>Koch</td>\n",
       "      <td>215.11791</td>\n",
       "      <td>paid</td>\n",
       "      <td>Chicago-Naperville-Elgin, IL-IN-WI</td>\n",
       "      <td>PUT</td>\n",
       "      <td>NextSong</td>\n",
       "      <td>1.541048e+12</td>\n",
       "      <td>818</td>\n",
       "      <td>Love Buzz</td>\n",
       "      <td>200</td>\n",
       "      <td>1542845526796</td>\n",
       "      <td>\"Mozilla/5.0 (X11; Linux x86_64) AppleWebKit/5...</td>\n",
       "      <td>15</td>\n",
       "    </tr>\n",
       "    <tr>\n",
       "      <th>3</th>\n",
       "      <td>Weezer</td>\n",
       "      <td>Logged In</td>\n",
       "      <td>Lily</td>\n",
       "      <td>F</td>\n",
       "      <td>41</td>\n",
       "      <td>Koch</td>\n",
       "      <td>479.32036</td>\n",
       "      <td>paid</td>\n",
       "      <td>Chicago-Naperville-Elgin, IL-IN-WI</td>\n",
       "      <td>PUT</td>\n",
       "      <td>NextSong</td>\n",
       "      <td>1.541048e+12</td>\n",
       "      <td>818</td>\n",
       "      <td>Only In Dreams</td>\n",
       "      <td>200</td>\n",
       "      <td>1542845741796</td>\n",
       "      <td>\"Mozilla/5.0 (X11; Linux x86_64) AppleWebKit/5...</td>\n",
       "      <td>15</td>\n",
       "    </tr>\n",
       "    <tr>\n",
       "      <th>4</th>\n",
       "      <td>Nightwish</td>\n",
       "      <td>Logged In</td>\n",
       "      <td>Lily</td>\n",
       "      <td>F</td>\n",
       "      <td>42</td>\n",
       "      <td>Koch</td>\n",
       "      <td>286.19710</td>\n",
       "      <td>paid</td>\n",
       "      <td>Chicago-Naperville-Elgin, IL-IN-WI</td>\n",
       "      <td>PUT</td>\n",
       "      <td>NextSong</td>\n",
       "      <td>1.541048e+12</td>\n",
       "      <td>818</td>\n",
       "      <td>She Is My Sin</td>\n",
       "      <td>200</td>\n",
       "      <td>1542846220796</td>\n",
       "      <td>\"Mozilla/5.0 (X11; Linux x86_64) AppleWebKit/5...</td>\n",
       "      <td>15</td>\n",
       "    </tr>\n",
       "  </tbody>\n",
       "</table>\n",
       "</div>"
      ],
      "text/plain": [
       "                artist       auth firstName gender  itemInSession lastName  \\\n",
       "0  Dee Dee Bridgewater  Logged In      Lily      F             38     Koch   \n",
       "1          Tim O'brien  Logged In      Lily      F             39     Koch   \n",
       "2              Nirvana  Logged In      Lily      F             40     Koch   \n",
       "3               Weezer  Logged In      Lily      F             41     Koch   \n",
       "4            Nightwish  Logged In      Lily      F             42     Koch   \n",
       "\n",
       "      length level                            location method      page  \\\n",
       "0  318.64118  paid  Chicago-Naperville-Elgin, IL-IN-WI    PUT  NextSong   \n",
       "1  176.14322  paid  Chicago-Naperville-Elgin, IL-IN-WI    PUT  NextSong   \n",
       "2  215.11791  paid  Chicago-Naperville-Elgin, IL-IN-WI    PUT  NextSong   \n",
       "3  479.32036  paid  Chicago-Naperville-Elgin, IL-IN-WI    PUT  NextSong   \n",
       "4  286.19710  paid  Chicago-Naperville-Elgin, IL-IN-WI    PUT  NextSong   \n",
       "\n",
       "   registration  sessionId                    song  status             ts  \\\n",
       "0  1.541048e+12        818          La Vie En Rose     200  1542845032796   \n",
       "1  1.541048e+12        818  Think About Last Night     200  1542845350796   \n",
       "2  1.541048e+12        818               Love Buzz     200  1542845526796   \n",
       "3  1.541048e+12        818          Only In Dreams     200  1542845741796   \n",
       "4  1.541048e+12        818           She Is My Sin     200  1542846220796   \n",
       "\n",
       "                                           userAgent userId  \n",
       "0  \"Mozilla/5.0 (X11; Linux x86_64) AppleWebKit/5...     15  \n",
       "1  \"Mozilla/5.0 (X11; Linux x86_64) AppleWebKit/5...     15  \n",
       "2  \"Mozilla/5.0 (X11; Linux x86_64) AppleWebKit/5...     15  \n",
       "3  \"Mozilla/5.0 (X11; Linux x86_64) AppleWebKit/5...     15  \n",
       "4  \"Mozilla/5.0 (X11; Linux x86_64) AppleWebKit/5...     15  "
      ]
     },
     "execution_count": 13,
     "metadata": {},
     "output_type": "execute_result"
    }
   ],
   "source": [
    "df = pd.read_json(filepath, lines=True)\n",
    "df.head()"
   ]
  },
  {
   "cell_type": "markdown",
   "metadata": {},
   "source": [
    "## #3: `time` Table\n",
    "#### Extract Data for Time Table\n",
    "- Filter records by `NextSong` action\n",
    "- Convert the `ts` timestamp column to datetime\n",
    "  - Hint: the current timestamp is in milliseconds\n",
    "- Extract the timestamp, hour, day, week of year, month, year, and weekday from the `ts` column and set `time_data` to a list containing these values in order\n",
    "  - Hint: use pandas' [`dt` attribute](https://pandas.pydata.org/pandas-docs/stable/reference/api/pandas.Series.dt.html) to access easily datetimelike properties.\n",
    "- Specify labels for these columns and set to `column_labels`\n",
    "- Create a dataframe, `time_df,` containing the time data for this file by combining `column_labels` and `time_data` into a dictionary and converting this into a dataframe"
   ]
  },
  {
   "cell_type": "code",
   "execution_count": 14,
   "metadata": {},
   "outputs": [
    {
     "data": {
      "text/html": [
       "<div>\n",
       "<style scoped>\n",
       "    .dataframe tbody tr th:only-of-type {\n",
       "        vertical-align: middle;\n",
       "    }\n",
       "\n",
       "    .dataframe tbody tr th {\n",
       "        vertical-align: top;\n",
       "    }\n",
       "\n",
       "    .dataframe thead th {\n",
       "        text-align: right;\n",
       "    }\n",
       "</style>\n",
       "<table border=\"1\" class=\"dataframe\">\n",
       "  <thead>\n",
       "    <tr style=\"text-align: right;\">\n",
       "      <th></th>\n",
       "      <th>artist</th>\n",
       "      <th>auth</th>\n",
       "      <th>firstName</th>\n",
       "      <th>gender</th>\n",
       "      <th>itemInSession</th>\n",
       "      <th>lastName</th>\n",
       "      <th>length</th>\n",
       "      <th>level</th>\n",
       "      <th>location</th>\n",
       "      <th>method</th>\n",
       "      <th>page</th>\n",
       "      <th>registration</th>\n",
       "      <th>sessionId</th>\n",
       "      <th>song</th>\n",
       "      <th>status</th>\n",
       "      <th>ts</th>\n",
       "      <th>userAgent</th>\n",
       "      <th>userId</th>\n",
       "    </tr>\n",
       "  </thead>\n",
       "  <tbody>\n",
       "    <tr>\n",
       "      <th>0</th>\n",
       "      <td>Dee Dee Bridgewater</td>\n",
       "      <td>Logged In</td>\n",
       "      <td>Lily</td>\n",
       "      <td>F</td>\n",
       "      <td>38</td>\n",
       "      <td>Koch</td>\n",
       "      <td>318.64118</td>\n",
       "      <td>paid</td>\n",
       "      <td>Chicago-Naperville-Elgin, IL-IN-WI</td>\n",
       "      <td>PUT</td>\n",
       "      <td>NextSong</td>\n",
       "      <td>1.541048e+12</td>\n",
       "      <td>818</td>\n",
       "      <td>La Vie En Rose</td>\n",
       "      <td>200</td>\n",
       "      <td>1542845032796</td>\n",
       "      <td>\"Mozilla/5.0 (X11; Linux x86_64) AppleWebKit/5...</td>\n",
       "      <td>15</td>\n",
       "    </tr>\n",
       "    <tr>\n",
       "      <th>1</th>\n",
       "      <td>Tim O'brien</td>\n",
       "      <td>Logged In</td>\n",
       "      <td>Lily</td>\n",
       "      <td>F</td>\n",
       "      <td>39</td>\n",
       "      <td>Koch</td>\n",
       "      <td>176.14322</td>\n",
       "      <td>paid</td>\n",
       "      <td>Chicago-Naperville-Elgin, IL-IN-WI</td>\n",
       "      <td>PUT</td>\n",
       "      <td>NextSong</td>\n",
       "      <td>1.541048e+12</td>\n",
       "      <td>818</td>\n",
       "      <td>Think About Last Night</td>\n",
       "      <td>200</td>\n",
       "      <td>1542845350796</td>\n",
       "      <td>\"Mozilla/5.0 (X11; Linux x86_64) AppleWebKit/5...</td>\n",
       "      <td>15</td>\n",
       "    </tr>\n",
       "    <tr>\n",
       "      <th>2</th>\n",
       "      <td>Nirvana</td>\n",
       "      <td>Logged In</td>\n",
       "      <td>Lily</td>\n",
       "      <td>F</td>\n",
       "      <td>40</td>\n",
       "      <td>Koch</td>\n",
       "      <td>215.11791</td>\n",
       "      <td>paid</td>\n",
       "      <td>Chicago-Naperville-Elgin, IL-IN-WI</td>\n",
       "      <td>PUT</td>\n",
       "      <td>NextSong</td>\n",
       "      <td>1.541048e+12</td>\n",
       "      <td>818</td>\n",
       "      <td>Love Buzz</td>\n",
       "      <td>200</td>\n",
       "      <td>1542845526796</td>\n",
       "      <td>\"Mozilla/5.0 (X11; Linux x86_64) AppleWebKit/5...</td>\n",
       "      <td>15</td>\n",
       "    </tr>\n",
       "    <tr>\n",
       "      <th>3</th>\n",
       "      <td>Weezer</td>\n",
       "      <td>Logged In</td>\n",
       "      <td>Lily</td>\n",
       "      <td>F</td>\n",
       "      <td>41</td>\n",
       "      <td>Koch</td>\n",
       "      <td>479.32036</td>\n",
       "      <td>paid</td>\n",
       "      <td>Chicago-Naperville-Elgin, IL-IN-WI</td>\n",
       "      <td>PUT</td>\n",
       "      <td>NextSong</td>\n",
       "      <td>1.541048e+12</td>\n",
       "      <td>818</td>\n",
       "      <td>Only In Dreams</td>\n",
       "      <td>200</td>\n",
       "      <td>1542845741796</td>\n",
       "      <td>\"Mozilla/5.0 (X11; Linux x86_64) AppleWebKit/5...</td>\n",
       "      <td>15</td>\n",
       "    </tr>\n",
       "    <tr>\n",
       "      <th>4</th>\n",
       "      <td>Nightwish</td>\n",
       "      <td>Logged In</td>\n",
       "      <td>Lily</td>\n",
       "      <td>F</td>\n",
       "      <td>42</td>\n",
       "      <td>Koch</td>\n",
       "      <td>286.19710</td>\n",
       "      <td>paid</td>\n",
       "      <td>Chicago-Naperville-Elgin, IL-IN-WI</td>\n",
       "      <td>PUT</td>\n",
       "      <td>NextSong</td>\n",
       "      <td>1.541048e+12</td>\n",
       "      <td>818</td>\n",
       "      <td>She Is My Sin</td>\n",
       "      <td>200</td>\n",
       "      <td>1542846220796</td>\n",
       "      <td>\"Mozilla/5.0 (X11; Linux x86_64) AppleWebKit/5...</td>\n",
       "      <td>15</td>\n",
       "    </tr>\n",
       "  </tbody>\n",
       "</table>\n",
       "</div>"
      ],
      "text/plain": [
       "                artist       auth firstName gender  itemInSession lastName  \\\n",
       "0  Dee Dee Bridgewater  Logged In      Lily      F             38     Koch   \n",
       "1          Tim O'brien  Logged In      Lily      F             39     Koch   \n",
       "2              Nirvana  Logged In      Lily      F             40     Koch   \n",
       "3               Weezer  Logged In      Lily      F             41     Koch   \n",
       "4            Nightwish  Logged In      Lily      F             42     Koch   \n",
       "\n",
       "      length level                            location method      page  \\\n",
       "0  318.64118  paid  Chicago-Naperville-Elgin, IL-IN-WI    PUT  NextSong   \n",
       "1  176.14322  paid  Chicago-Naperville-Elgin, IL-IN-WI    PUT  NextSong   \n",
       "2  215.11791  paid  Chicago-Naperville-Elgin, IL-IN-WI    PUT  NextSong   \n",
       "3  479.32036  paid  Chicago-Naperville-Elgin, IL-IN-WI    PUT  NextSong   \n",
       "4  286.19710  paid  Chicago-Naperville-Elgin, IL-IN-WI    PUT  NextSong   \n",
       "\n",
       "   registration  sessionId                    song  status             ts  \\\n",
       "0  1.541048e+12        818          La Vie En Rose     200  1542845032796   \n",
       "1  1.541048e+12        818  Think About Last Night     200  1542845350796   \n",
       "2  1.541048e+12        818               Love Buzz     200  1542845526796   \n",
       "3  1.541048e+12        818          Only In Dreams     200  1542845741796   \n",
       "4  1.541048e+12        818           She Is My Sin     200  1542846220796   \n",
       "\n",
       "                                           userAgent userId  \n",
       "0  \"Mozilla/5.0 (X11; Linux x86_64) AppleWebKit/5...     15  \n",
       "1  \"Mozilla/5.0 (X11; Linux x86_64) AppleWebKit/5...     15  \n",
       "2  \"Mozilla/5.0 (X11; Linux x86_64) AppleWebKit/5...     15  \n",
       "3  \"Mozilla/5.0 (X11; Linux x86_64) AppleWebKit/5...     15  \n",
       "4  \"Mozilla/5.0 (X11; Linux x86_64) AppleWebKit/5...     15  "
      ]
     },
     "execution_count": 14,
     "metadata": {},
     "output_type": "execute_result"
    }
   ],
   "source": [
    "df = df[df[\"page\"]==\"NextSong\"]\n",
    "df.head()"
   ]
  },
  {
   "cell_type": "code",
   "execution_count": 15,
   "metadata": {},
   "outputs": [
    {
     "data": {
      "text/plain": [
       "0    1542845032796\n",
       "1    1542845350796\n",
       "2    1542845526796\n",
       "3    1542845741796\n",
       "4    1542846220796\n",
       "Name: ts, dtype: int64"
      ]
     },
     "execution_count": 15,
     "metadata": {},
     "output_type": "execute_result"
    }
   ],
   "source": [
    "t = df[\"ts\"]\n",
    "t.head()"
   ]
  },
  {
   "cell_type": "code",
   "execution_count": 16,
   "metadata": {},
   "outputs": [],
   "source": [
    "datetime = pd.to_datetime(t, unit=\"ms\")\n",
    "time_data = (datetime, datetime.dt.hour, datetime.dt.day, datetime.dt.weekofyear, datetime.dt.month, datetime.dt.year, datetime.dt.weekday)\n",
    "column_labels = (\"timestamp\", \"hour\", \"day\", \"week of year\", \"month\", \"year\", \"weekday\")"
   ]
  },
  {
   "cell_type": "code",
   "execution_count": 17,
   "metadata": {},
   "outputs": [
    {
     "data": {
      "text/html": [
       "<div>\n",
       "<style scoped>\n",
       "    .dataframe tbody tr th:only-of-type {\n",
       "        vertical-align: middle;\n",
       "    }\n",
       "\n",
       "    .dataframe tbody tr th {\n",
       "        vertical-align: top;\n",
       "    }\n",
       "\n",
       "    .dataframe thead th {\n",
       "        text-align: right;\n",
       "    }\n",
       "</style>\n",
       "<table border=\"1\" class=\"dataframe\">\n",
       "  <thead>\n",
       "    <tr style=\"text-align: right;\">\n",
       "      <th></th>\n",
       "      <th>timestamp</th>\n",
       "      <th>hour</th>\n",
       "      <th>day</th>\n",
       "      <th>week of year</th>\n",
       "      <th>month</th>\n",
       "      <th>year</th>\n",
       "      <th>weekday</th>\n",
       "    </tr>\n",
       "  </thead>\n",
       "  <tbody>\n",
       "    <tr>\n",
       "      <th>0</th>\n",
       "      <td>2018-11-22 00:03:52.796</td>\n",
       "      <td>0</td>\n",
       "      <td>22</td>\n",
       "      <td>47</td>\n",
       "      <td>11</td>\n",
       "      <td>2018</td>\n",
       "      <td>3</td>\n",
       "    </tr>\n",
       "    <tr>\n",
       "      <th>1</th>\n",
       "      <td>2018-11-22 00:09:10.796</td>\n",
       "      <td>0</td>\n",
       "      <td>22</td>\n",
       "      <td>47</td>\n",
       "      <td>11</td>\n",
       "      <td>2018</td>\n",
       "      <td>3</td>\n",
       "    </tr>\n",
       "    <tr>\n",
       "      <th>2</th>\n",
       "      <td>2018-11-22 00:12:06.796</td>\n",
       "      <td>0</td>\n",
       "      <td>22</td>\n",
       "      <td>47</td>\n",
       "      <td>11</td>\n",
       "      <td>2018</td>\n",
       "      <td>3</td>\n",
       "    </tr>\n",
       "    <tr>\n",
       "      <th>3</th>\n",
       "      <td>2018-11-22 00:15:41.796</td>\n",
       "      <td>0</td>\n",
       "      <td>22</td>\n",
       "      <td>47</td>\n",
       "      <td>11</td>\n",
       "      <td>2018</td>\n",
       "      <td>3</td>\n",
       "    </tr>\n",
       "    <tr>\n",
       "      <th>4</th>\n",
       "      <td>2018-11-22 00:23:40.796</td>\n",
       "      <td>0</td>\n",
       "      <td>22</td>\n",
       "      <td>47</td>\n",
       "      <td>11</td>\n",
       "      <td>2018</td>\n",
       "      <td>3</td>\n",
       "    </tr>\n",
       "  </tbody>\n",
       "</table>\n",
       "</div>"
      ],
      "text/plain": [
       "                timestamp  hour  day  week of year  month  year  weekday\n",
       "0 2018-11-22 00:03:52.796     0   22            47     11  2018        3\n",
       "1 2018-11-22 00:09:10.796     0   22            47     11  2018        3\n",
       "2 2018-11-22 00:12:06.796     0   22            47     11  2018        3\n",
       "3 2018-11-22 00:15:41.796     0   22            47     11  2018        3\n",
       "4 2018-11-22 00:23:40.796     0   22            47     11  2018        3"
      ]
     },
     "execution_count": 17,
     "metadata": {},
     "output_type": "execute_result"
    }
   ],
   "source": [
    "time_df = pd.DataFrame.from_dict(dict(zip(column_labels, time_data))) \n",
    "time_df.head()"
   ]
  },
  {
   "cell_type": "markdown",
   "metadata": {},
   "source": [
    "#### Insert Records into Time Table\n",
    "Implement the `time_table_insert` query in `sql_queries.py` and run the cell below to insert records for the timestamps in this log file into the `time` table. Remember to run `create_tables.py` before running the cell below to ensure you've created/resetted the `time` table in the sparkify database."
   ]
  },
  {
   "cell_type": "code",
   "execution_count": 18,
   "metadata": {},
   "outputs": [],
   "source": [
    "for i, row in time_df.iterrows():\n",
    "    cur.execute(time_table_insert, list(row))\n",
    "    conn.commit()"
   ]
  },
  {
   "cell_type": "markdown",
   "metadata": {},
   "source": [
    "Run `test.ipynb` to see if you've successfully added records to this table."
   ]
  },
  {
   "cell_type": "markdown",
   "metadata": {},
   "source": [
    "## #4: `users` Table\n",
    "#### Extract Data for Users Table\n",
    "- Select columns for user ID, first name, last name, gender and level and set to `user_df`"
   ]
  },
  {
   "cell_type": "code",
   "execution_count": 19,
   "metadata": {},
   "outputs": [],
   "source": [
    "user_df = df[[\"userId\", \"firstName\", \"lastName\", \"gender\", \"level\"]]"
   ]
  },
  {
   "cell_type": "markdown",
   "metadata": {},
   "source": [
    "#### Insert Records into Users Table\n",
    "Implement the `user_table_insert` query in `sql_queries.py` and run the cell below to insert records for the users in this log file into the `users` table. Remember to run `create_tables.py` before running the cell below to ensure you've created/resetted the `users` table in the sparkify database."
   ]
  },
  {
   "cell_type": "code",
   "execution_count": 20,
   "metadata": {},
   "outputs": [],
   "source": [
    "for i, row in user_df.iterrows():\n",
    "    cur.execute(user_table_insert, row)\n",
    "    conn.commit()"
   ]
  },
  {
   "cell_type": "markdown",
   "metadata": {},
   "source": [
    "Run `test.ipynb` to see if you've successfully added records to this table."
   ]
  },
  {
   "cell_type": "markdown",
   "metadata": {},
   "source": [
    "## #5: `songplays` Table\n",
    "#### Extract Data and Songplays Table\n",
    "This one is a little more complicated since information from the songs table, artists table, and original log file are all needed for the `songplays` table. Since the log file does not specify an ID for either the song or the artist, you'll need to get the song ID and artist ID by querying the songs and artists tables to find matches based on song title, artist name, and song duration time.\n",
    "- Implement the `song_select` query in `sql_queries.py` to find the song ID and artist ID based on the title, artist name, and duration of a song.\n",
    "- Select the timestamp, user ID, level, song ID, artist ID, session ID, location, and user agent and set to `songplay_data`\n",
    "\n",
    "#### Insert Records into Songplays Table\n",
    "- Implement the `songplay_table_insert` query and run the cell below to insert records for the songplay actions in this log file into the `songplays` table. Remember to run `create_tables.py` before running the cell below to ensure you've created/resetted the `songplays` table in the sparkify database."
   ]
  },
  {
   "cell_type": "code",
   "execution_count": 21,
   "metadata": {},
   "outputs": [
    {
     "name": "stdout",
     "output_type": "stream",
     "text": [
      "La Vie En Rose Dee Dee Bridgewater 318.64118\n",
      "Think About Last Night Tim O'brien 176.14322\n",
      "Love Buzz Nirvana 215.11791\n",
      "Only In Dreams Weezer 479.32036\n",
      "She Is My Sin Nightwish 286.1971\n",
      "Teach Me How To Dougie California Swag District 239.17669\n",
      "Silvia Miike Snow 385.35791\n",
      "I Kissed A Girl Katy Perry 179.40853\n",
      "Peep Show Sikth 250.53995\n",
      "Not Fair Lily Allen 199.88853\n",
      "Lump The Presidents of the United States of America 495.77751\n",
      "Right Now (Produced by Ayatollah) Wordsworth 253.1522\n",
      "Take A Bow Rihanna 229.04118\n",
      "Back To The African Garden Tomas Bodin 396.53832\n",
      "My Humps Black Eyed Peas 326.86975\n",
      "Show Me What I'm Looking For (Album Version) Carolina Liar 240.45669\n",
      "Dust in The Wind Kansas 202.29179\n",
      "Xehasmeni Melodia Onar 306.6771\n",
      "Lakini's Juice Live 286.98077\n",
      "Nuff Fire Abstract Rude 196.85832\n",
      "Mean Mean Son Of A Gun Johnny Horton 131.81342\n",
      "Ironmasters The Men They Couldn't Hang 251.14077\n",
      "The Absence Of God (Album Version) Rilo Kiley 234.03057\n",
      "Lost My Mind Shwayze 201.63873\n",
      "Mamma Bram Vermeulen 251.42812\n",
      "I Will Follow You into the Dark (Album Version) Death Cab for Cutie 189.3873\n",
      "You're The One Dwight Yoakam 239.3073\n",
      "Cartel Gathering Jadakiss / Ghostface Killah / Raekwon 173.76608\n",
      "Si tu no estas Rosana 256.31302\n",
      "The Ballad of Michael Valentine The Killers 230.39955\n",
      "SinceritÃÂ© Et Jalousie Alliance Ethnik 195.94404\n",
      "China Roses Enya 289.802\n",
      "Jazz Aya RL 225.43628\n",
      "Love + Pain Clor 227.68281\n",
      "Solitario Y Solo Alejandro Fernandez 262.84363\n",
      "Midwest Gospel Radio Yonder Mountain String Band 152.18893\n",
      "Wavin'  Flag K'Naan 220.49914\n",
      "Her Ghost In The Fog Cradle Of Filth 453.09342\n",
      "Let It Rain Amanda Marshall 274.28526\n",
      "Sonne Rammstein 272.40444\n",
      "If You Want To Sing Out_ Sing Out Cat Stevens 167.6273\n",
      "Spente Le Stelle Emma Shapplin 267.62404\n",
      "Float On Modest Mouse 209.52771\n",
      "En El Cielo No Hay Cerveza (In Heaven There Is No Beer) Flaco Jimenez 155.81995\n",
      "Float On Modest Mouse 209.52771\n",
      "Pills (Radio Edit) (Radio Edit) Cedric Gervais feat. Second Sun 230.32118\n",
      "Strut (1993 Digital Remaster) Sheena Easton 239.62077\n",
      "My Baby Don't Love Me Everything But The Girl 218.74893\n",
      "Dog Days Are Over (Radio Edit) Florence + The Machine 219.66322\n",
      "Naked (Live) BoDeans 354.01098\n",
      "Apologize OneRepublic 208.14322\n",
      "Full Circle Miley Cyrus 194.45506\n",
      "Don't Panic Coldplay 139.12771\n",
      "You Were The King_ Now You're Unconscious (Album Version) Atreyu 308.37506\n",
      "Born To Run Bruce Springsteen 270.54975\n",
      "Undo BjÃÂ¶rk 348.57751\n",
      "It Just Don't Stop Big Shug 140.56444\n",
      "Be Your Own Girl The Wallflowers 315.24526\n",
      "Ain't No Way (You Won't Love Me) Chris Brown 203.80689\n",
      "Filosofia Barata Y Zapatos De Goma Charly GarcÃÂ­a 231.73179\n",
      "Boyz-N-The-Hood N.W.A ft. Eazy-E 338.18077\n",
      "1-2-8 The Mighty Mighty Bosstones 158.87628\n",
      "Unite (2009 Digital Remaster) Beastie Boys 211.722\n",
      "Take A Ride Yuksek 218.95791\n",
      "Cuando Agosto Era 21 Fernando Ubiergo 218.74893\n",
      "Napoleon Says Phoenix 192.86159\n",
      "Sweet And Wild Radney Foster 288.96608\n",
      "Manchild Neneh Cherry 232.202\n",
      "Szex & KV Hooligans 189.98812\n",
      "Pursuit Of Happiness (nightmare) Kid Cudi / MGMT / Ratatat 295.67955\n",
      "Blue Blood Foals 316.89098\n",
      "Trashin' The Camp (Phil And 'N Sync Version) 'N Sync/Phil Collins 143.64689\n",
      "I Need You Kristian Stanfill 287.50322\n",
      "Tired Of Being Sorry Enrique Iglesias 241.42322\n",
      "The Invisible Man Michael Cretu 301.06077\n",
      "Windy & Warm Tommy Emmanuel 168.14975\n",
      "No Good 4 You Cherise 229.69424\n",
      "Nothing Personal Anna Waronker 189.6224\n",
      "ConfesiÃÂ³n King ChangÃÂ³ 340.74077\n",
      "I Found That Essence Rare Gang Of Four 193.14893\n",
      "Le Soir Line Renaud 176.16934\n",
      "Last Day Of Our Love the bird and the bee 198.1122\n"
     ]
    }
   ],
   "source": [
    "for index, row in df.iterrows():\n",
    "    # get songid and artistid from song and artist tables\n",
    "    print(row.song, row.artist, row.length)\n",
    "    cur.execute(song_select,(row.song, row.artist, row.length))\n",
    "    results = cur.fetchone()\n",
    "    \n",
    "    if results:\n",
    "        songid, artistid = results\n",
    "    else:\n",
    "        songid, artistid = None, None\n",
    "\n",
    "    # insert songplay record\n",
    "    datetime = pd.to_datetime(row.ts, unit=\"ms\")\n",
    "    songplay_data = (datetime, row.userId, row.level, songid, artistid, row.sessionId, row.location, row.userAgent)\n",
    "    cur.execute(songplay_table_insert, songplay_data)\n",
    "    conn.commit()"
   ]
  },
  {
   "cell_type": "markdown",
   "metadata": {},
   "source": [
    "Run `test.ipynb` to see if you've successfully added records to this table."
   ]
  },
  {
   "cell_type": "markdown",
   "metadata": {},
   "source": [
    "# Close Connection to Sparkify Database"
   ]
  },
  {
   "cell_type": "code",
   "execution_count": 22,
   "metadata": {},
   "outputs": [],
   "source": [
    "conn.close()"
   ]
  },
  {
   "cell_type": "markdown",
   "metadata": {},
   "source": [
    "# Implement `etl.py`\n",
    "Use what you've completed in this notebook to implement `etl.py`."
   ]
  },
  {
   "cell_type": "code",
   "execution_count": null,
   "metadata": {},
   "outputs": [],
   "source": []
  }
 ],
 "metadata": {
  "kernelspec": {
   "display_name": "Python 3",
   "language": "python",
   "name": "python3"
  },
  "language_info": {
   "codemirror_mode": {
    "name": "ipython",
    "version": 3
   },
   "file_extension": ".py",
   "mimetype": "text/x-python",
   "name": "python",
   "nbconvert_exporter": "python",
   "pygments_lexer": "ipython3",
   "version": "3.6.3"
  }
 },
 "nbformat": 4,
 "nbformat_minor": 2
}
